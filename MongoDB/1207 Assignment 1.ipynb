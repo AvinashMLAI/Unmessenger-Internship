{
 "cells": [
  {
   "cell_type": "markdown",
   "id": "8b4fa04b",
   "metadata": {},
   "source": [
    "## Assignment 1\n",
    "**Deadline**: 23rd September 2024\n",
    "\n",
    "This assessment consists of 20 MongoDB queries, ranging from easy to hard. You are required to use the following sample data:\n",
    "\n",
    "```json\n",
    "{\n",
    "    \"students\": [\n",
    "        {\"name\": \"Rohit\", \"age\": 23, \"math_score\": 85, \"physics_score\": 90, \"city\": \"New York\"},\n",
    "        {\"name\": \"Eram\", \"age\": 22, \"math_score\": 78, \"physics_score\": 75, \"city\": \"Los Angeles\"},\n",
    "        {\"name\": \"Madan\", \"age\": 24, \"math_score\": 95, \"physics_score\": 88, \"city\": \"Chicago\"},\n",
    "        {\"name\": \"Uvaish\", \"age\": 21, \"math_score\": 60, \"physics_score\": 65, \"city\": \"Houston\"},\n",
    "        {\"name\": \"Neha\", \"age\": 23, \"math_score\": 72, \"physics_score\": 80, \"city\": \"Phoenix\"}\n",
    "    ]\n",
    "}\n",
    "\n",
    "```\n",
    "\n",
    "Please submit your solutions by the given deadline.\n"
   ]
  },
  {
   "cell_type": "markdown",
   "id": "3e733b76",
   "metadata": {},
   "source": [
    "1. Insert the given sample data into a MongoDB collection called 'students'."
   ]
  },
  {
   "cell_type": "code",
   "execution_count": 7,
   "id": "03d2d6e6",
   "metadata": {},
   "outputs": [],
   "source": [
    "# Importing package\n",
    "import pymongo\n",
    "\n",
    "# Connect to MongoDB\n",
    "client = pymongo.MongoClient(\"mongodb://localhost:27017/\")\n",
    "\n",
    "# Accessing the Database\n",
    "mydb = client[\"Unmessenger\"]\n",
    "\n",
    "# Creating Collection\n",
    "collection = mydb.students\n",
    "\n",
    "# Accessing Collection\n",
    "collection = mydb[\"students\"]"
   ]
  },
  {
   "cell_type": "code",
   "execution_count": 8,
   "id": "43f9e4e8",
   "metadata": {},
   "outputs": [
    {
     "data": {
      "text/plain": [
       "InsertManyResult([ObjectId('66f1382738f7d2ba71a4a569'), ObjectId('66f1382738f7d2ba71a4a56a'), ObjectId('66f1382738f7d2ba71a4a56b'), ObjectId('66f1382738f7d2ba71a4a56c')], acknowledged=True)"
      ]
     },
     "execution_count": 8,
     "metadata": {},
     "output_type": "execute_result"
    }
   ],
   "source": [
    "# insert data\n",
    "student_1 = {\"name\": \"Rohit\", \"age\": 23, \"math_score\": 85, \"physics_score\": 90, \"city\": \"New York\"}\n",
    "student_2 = {\"name\": \"Eram\", \"age\": 22, \"math_score\": 78, \"physics_score\": 75, \"city\": \"Los Angeles\"}\n",
    "student_3 = {\"name\": \"Madan\", \"age\": 24, \"math_score\": 95, \"physics_score\": 88, \"city\": \"Chicago\"}\n",
    "student_4 = {\"name\": \"Uvaish\", \"age\": 21, \"math_score\": 60, \"physics_score\": 65, \"city\": \"Houston\"}\n",
    "student_5 = {\"name\": \"Neha\", \"age\": 23, \"math_score\": 72, \"physics_score\": 80, \"city\": \"Phoenix\"}\n",
    "\n",
    "# Insert one document\n",
    "collection.insert_one(student_1)\n",
    "\n",
    "# Insert many documents\n",
    "collection.insert_many([student_2, student_3,student_4,student_5])\n"
   ]
  },
  {
   "cell_type": "markdown",
   "id": "c63a46c2",
   "metadata": {},
   "source": [
    "2. Write a query to find all students who have a 'math_score' greater than 80."
   ]
  },
  {
   "cell_type": "code",
   "execution_count": 12,
   "id": "55d4755e",
   "metadata": {},
   "outputs": [
    {
     "name": "stdout",
     "output_type": "stream",
     "text": [
      "{'_id': ObjectId('66f1382738f7d2ba71a4a568'), 'name': 'Rohit', 'age': 23, 'math_score': 85, 'physics_score': 90, 'city': 'New York'}\n",
      "{'_id': ObjectId('66f1382738f7d2ba71a4a56a'), 'name': 'Madan', 'age': 24, 'math_score': 95, 'physics_score': 88, 'city': 'Chicago'}\n"
     ]
    }
   ],
   "source": [
    "# Query to find students with math_score greater than 80\n",
    "students = collection.find({ \"math_score\": { \"$gt\": 80 } })\n",
    "\n",
    "# Print the results\n",
    "for student in students:\n",
    "    print(student)"
   ]
  },
  {
   "cell_type": "markdown",
   "id": "f965853a",
   "metadata": {},
   "source": [
    "3. Write a query to find students whose 'age' is less than 23."
   ]
  },
  {
   "cell_type": "code",
   "execution_count": 13,
   "id": "6140e412",
   "metadata": {},
   "outputs": [
    {
     "name": "stdout",
     "output_type": "stream",
     "text": [
      "{'_id': ObjectId('66f1382738f7d2ba71a4a569'), 'name': 'Eram', 'age': 22, 'math_score': 78, 'physics_score': 75, 'city': 'Los Angeles'}\n",
      "{'_id': ObjectId('66f1382738f7d2ba71a4a56b'), 'name': 'Uvaish', 'age': 21, 'math_score': 60, 'physics_score': 65, 'city': 'Houston'}\n"
     ]
    }
   ],
   "source": [
    "# Query to find students whose age is less than 23\n",
    "students = collection.find({ \"age\": { \"$lt\": 23 } })\n",
    "\n",
    "# Print the results\n",
    "for student in students:\n",
    "    print(student)"
   ]
  },
  {
   "cell_type": "markdown",
   "id": "88005dde",
   "metadata": {},
   "source": [
    "4. Write a query to return only the 'name' and 'math_score' of all students."
   ]
  },
  {
   "cell_type": "code",
   "execution_count": 14,
   "id": "b274135f",
   "metadata": {},
   "outputs": [
    {
     "name": "stdout",
     "output_type": "stream",
     "text": [
      "{'name': 'Rohit', 'math_score': 85}\n",
      "{'name': 'Eram', 'math_score': 78}\n",
      "{'name': 'Madan', 'math_score': 95}\n",
      "{'name': 'Uvaish', 'math_score': 60}\n",
      "{'name': 'Neha', 'math_score': 72}\n"
     ]
    }
   ],
   "source": [
    "# Query to return only the 'name' and 'math_score' of all students\n",
    "students = collection.find({}, { \"name\": 1, \"math_score\": 1, \"_id\": 0 })\n",
    "\n",
    "# Print the results\n",
    "for student in students:\n",
    "    print(student)"
   ]
  },
  {
   "cell_type": "markdown",
   "id": "7a148d48",
   "metadata": {},
   "source": [
    "5. Write a query to find students from the city 'New York'."
   ]
  },
  {
   "cell_type": "code",
   "execution_count": 15,
   "id": "2acedafc",
   "metadata": {},
   "outputs": [
    {
     "name": "stdout",
     "output_type": "stream",
     "text": [
      "{'_id': ObjectId('66f1382738f7d2ba71a4a568'), 'name': 'Rohit', 'age': 23, 'math_score': 85, 'physics_score': 90, 'city': 'New York'}\n"
     ]
    }
   ],
   "source": [
    "# Query to find students from 'New York'\n",
    "students = collection.find({ \"city\": \"New York\" })\n",
    "\n",
    "# Print the results\n",
    "for student in students:\n",
    "    print(student)"
   ]
  },
  {
   "cell_type": "markdown",
   "id": "aaa6f033",
   "metadata": {},
   "source": [
    "6. Write a query to update the 'physics_score' of 'Bob' to 85."
   ]
  },
  {
   "cell_type": "code",
   "execution_count": 16,
   "id": "ae4d1f5f",
   "metadata": {},
   "outputs": [
    {
     "name": "stdout",
     "output_type": "stream",
     "text": [
      "No student named 'Bob' was found.\n"
     ]
    }
   ],
   "source": [
    "# Update the 'physics_score' of 'Bob' to 85\n",
    "result = collection.update_one(\n",
    "    { \"name\": \"Bob\" },  # Filter to find the student named 'Bob'\n",
    "    { \"$set\": { \"physics_score\": 85 } }  # Update the physics_score\n",
    ")\n",
    "\n",
    "# Check if the update was successful\n",
    "if result.modified_count > 0:\n",
    "    print(\"Successfully updated 'Bob's physics score.\")\n",
    "else:\n",
    "    print(\"No student named 'Bob' was found.\")"
   ]
  },
  {
   "cell_type": "markdown",
   "id": "1df67d31",
   "metadata": {},
   "source": [
    "7. Write a query to delete the student 'David' from the collection."
   ]
  },
  {
   "cell_type": "code",
   "execution_count": 17,
   "id": "293c2347",
   "metadata": {},
   "outputs": [
    {
     "name": "stdout",
     "output_type": "stream",
     "text": [
      "No student named 'David' was found.\n"
     ]
    }
   ],
   "source": [
    "# Delete the student named 'David'\n",
    "result = collection.delete_one({ \"name\": \"David\" })\n",
    "\n",
    "# Check if the deletion was successful\n",
    "if result.deleted_count > 0:\n",
    "    print(\"Successfully deleted 'David' from the collection.\")\n",
    "else:\n",
    "    print(\"No student named 'David' was found.\")"
   ]
  },
  {
   "cell_type": "markdown",
   "id": "ad535a0b",
   "metadata": {},
   "source": [
    "8. Write a query to find all students where 'math_score' is between 70 and 90 (inclusive)."
   ]
  },
  {
   "cell_type": "code",
   "execution_count": 18,
   "id": "6a3c58a8",
   "metadata": {},
   "outputs": [
    {
     "name": "stdout",
     "output_type": "stream",
     "text": [
      "{'_id': ObjectId('66f1382738f7d2ba71a4a568'), 'name': 'Rohit', 'age': 23, 'math_score': 85, 'physics_score': 90, 'city': 'New York'}\n",
      "{'_id': ObjectId('66f1382738f7d2ba71a4a569'), 'name': 'Eram', 'age': 22, 'math_score': 78, 'physics_score': 75, 'city': 'Los Angeles'}\n",
      "{'_id': ObjectId('66f1382738f7d2ba71a4a56c'), 'name': 'Neha', 'age': 23, 'math_score': 72, 'physics_score': 80, 'city': 'Phoenix'}\n"
     ]
    }
   ],
   "source": [
    "# Query to find students with math_score between 70 and 90 (inclusive)\n",
    "students = collection.find({ \"math_score\": { \"$gte\": 70, \"$lte\": 90 } })\n",
    "\n",
    "# Print the results\n",
    "for student in students:\n",
    "    print(student)"
   ]
  },
  {
   "cell_type": "markdown",
   "id": "cfb2950f",
   "metadata": {},
   "source": [
    "9. Write a query to find students whose 'math_score' is greater than 'physics_score'."
   ]
  },
  {
   "cell_type": "code",
   "execution_count": 19,
   "id": "ac170ca2",
   "metadata": {},
   "outputs": [
    {
     "name": "stdout",
     "output_type": "stream",
     "text": [
      "{'_id': ObjectId('66f1382738f7d2ba71a4a569'), 'name': 'Eram', 'age': 22, 'math_score': 78, 'physics_score': 75, 'city': 'Los Angeles'}\n",
      "{'_id': ObjectId('66f1382738f7d2ba71a4a56a'), 'name': 'Madan', 'age': 24, 'math_score': 95, 'physics_score': 88, 'city': 'Chicago'}\n"
     ]
    }
   ],
   "source": [
    "# Query to find students where math_score is greater than physics_score\n",
    "students = collection.find({ \"$expr\": { \"$gt\": [\"$math_score\", \"$physics_score\"] } })\n",
    "\n",
    "# Print the results\n",
    "for student in students:\n",
    "    print(student)"
   ]
  },
  {
   "cell_type": "markdown",
   "id": "cebc3d1a",
   "metadata": {},
   "source": [
    "10. Write a query to return students sorted by 'math_score' in descending order."
   ]
  },
  {
   "cell_type": "code",
   "execution_count": 20,
   "id": "1b44a3bd",
   "metadata": {},
   "outputs": [
    {
     "name": "stdout",
     "output_type": "stream",
     "text": [
      "{'_id': ObjectId('66f1382738f7d2ba71a4a56a'), 'name': 'Madan', 'age': 24, 'math_score': 95, 'physics_score': 88, 'city': 'Chicago'}\n",
      "{'_id': ObjectId('66f1382738f7d2ba71a4a568'), 'name': 'Rohit', 'age': 23, 'math_score': 85, 'physics_score': 90, 'city': 'New York'}\n",
      "{'_id': ObjectId('66f1382738f7d2ba71a4a569'), 'name': 'Eram', 'age': 22, 'math_score': 78, 'physics_score': 75, 'city': 'Los Angeles'}\n",
      "{'_id': ObjectId('66f1382738f7d2ba71a4a56c'), 'name': 'Neha', 'age': 23, 'math_score': 72, 'physics_score': 80, 'city': 'Phoenix'}\n",
      "{'_id': ObjectId('66f1382738f7d2ba71a4a56b'), 'name': 'Uvaish', 'age': 21, 'math_score': 60, 'physics_score': 65, 'city': 'Houston'}\n"
     ]
    }
   ],
   "source": [
    "# Query to return students sorted by math_score in descending order\n",
    "students = collection.find().sort(\"math_score\", -1)\n",
    "\n",
    "# Print the results\n",
    "for student in students:\n",
    "    print(student)"
   ]
  },
  {
   "cell_type": "markdown",
   "id": "be69f913",
   "metadata": {},
   "source": [
    "11. Write a query using the aggregation framework to calculate the average 'math_score' of all students."
   ]
  },
  {
   "cell_type": "code",
   "execution_count": 21,
   "id": "8041c7fb",
   "metadata": {},
   "outputs": [
    {
     "name": "stdout",
     "output_type": "stream",
     "text": [
      "Average Math Score: 78.0\n"
     ]
    }
   ],
   "source": [
    "# Aggregation query to calculate the average math_score\n",
    "pipeline = [\n",
    "    {\n",
    "        \"$group\": {\n",
    "            \"_id\": None,  # No grouping by any field\n",
    "            \"average_math_score\": { \"$avg\": \"$math_score\" }  # Calculate average\n",
    "        }\n",
    "    }\n",
    "]\n",
    "\n",
    "# Execute the aggregation\n",
    "average_score = collection.aggregate(pipeline)\n",
    "\n",
    "# Print the result\n",
    "for result in average_score:\n",
    "    print(\"Average Math Score:\", result[\"average_math_score\"])"
   ]
  },
  {
   "cell_type": "markdown",
   "id": "cf841104",
   "metadata": {},
   "source": [
    "12. Write a query to group students by 'city' and count the number of students in each city."
   ]
  },
  {
   "cell_type": "code",
   "execution_count": 22,
   "id": "11c79007",
   "metadata": {},
   "outputs": [
    {
     "name": "stdout",
     "output_type": "stream",
     "text": [
      "City: New York, Number of Students: 1\n",
      "City: Los Angeles, Number of Students: 1\n",
      "City: Chicago, Number of Students: 1\n",
      "City: Houston, Number of Students: 1\n",
      "City: Phoenix, Number of Students: 1\n"
     ]
    }
   ],
   "source": [
    "# Aggregation query to group students by city and count the number of students in each city\n",
    "pipeline = [\n",
    "    {\n",
    "        \"$group\": {\n",
    "            \"_id\": \"$city\",  # Group by the city field\n",
    "            \"student_count\": { \"$sum\": 1 }  # Count the number of students\n",
    "        }\n",
    "    }\n",
    "]\n",
    "\n",
    "# Execute the aggregation\n",
    "city_counts = collection.aggregate(pipeline)\n",
    "\n",
    "# Print the results\n",
    "for result in city_counts:\n",
    "    print(f\"City: {result['_id']}, Number of Students: {result['student_count']}\")"
   ]
  },
  {
   "cell_type": "markdown",
   "id": "422ec61c",
   "metadata": {},
   "source": [
    "13. Write a query to find students who either have 'math_score' greater than 80 or 'physics_score' greater than 85."
   ]
  },
  {
   "cell_type": "code",
   "execution_count": 23,
   "id": "260dcc6a",
   "metadata": {},
   "outputs": [
    {
     "name": "stdout",
     "output_type": "stream",
     "text": [
      "{'_id': ObjectId('66f1382738f7d2ba71a4a568'), 'name': 'Rohit', 'age': 23, 'math_score': 85, 'physics_score': 90, 'city': 'New York'}\n",
      "{'_id': ObjectId('66f1382738f7d2ba71a4a56a'), 'name': 'Madan', 'age': 24, 'math_score': 95, 'physics_score': 88, 'city': 'Chicago'}\n"
     ]
    }
   ],
   "source": [
    "# Query to find students with math_score > 80 or physics_score > 85\n",
    "students = collection.find({ \n",
    "    \"$or\": [\n",
    "        { \"math_score\": { \"$gt\": 80 } },\n",
    "        { \"physics_score\": { \"$gt\": 85 } }\n",
    "    ]\n",
    "})\n",
    "\n",
    "# Print the results\n",
    "for student in students:\n",
    "    print(student)"
   ]
  },
  {
   "cell_type": "markdown",
   "id": "ca4d6f63",
   "metadata": {},
   "source": [
    "14. Write a query to find students whose age is exactly 23 and live in 'Phoenix'."
   ]
  },
  {
   "cell_type": "code",
   "execution_count": 24,
   "id": "8743c54d",
   "metadata": {},
   "outputs": [
    {
     "name": "stdout",
     "output_type": "stream",
     "text": [
      "{'_id': ObjectId('66f1382738f7d2ba71a4a56c'), 'name': 'Neha', 'age': 23, 'math_score': 72, 'physics_score': 80, 'city': 'Phoenix'}\n"
     ]
    }
   ],
   "source": [
    "# Query to find students whose age is 23 and live in 'Phoenix'\n",
    "students = collection.find({ \n",
    "    \"age\": 23,\n",
    "    \"city\": \"Phoenix\"\n",
    "})\n",
    "\n",
    "# Print the results\n",
    "for student in students:\n",
    "    print(student)"
   ]
  },
  {
   "cell_type": "markdown",
   "id": "2f871c8d",
   "metadata": {},
   "source": [
    "15. Write a query to find students whose 'math_score' is not equal to 85."
   ]
  },
  {
   "cell_type": "code",
   "execution_count": 25,
   "id": "31dad59e",
   "metadata": {},
   "outputs": [
    {
     "name": "stdout",
     "output_type": "stream",
     "text": [
      "{'_id': ObjectId('66f1382738f7d2ba71a4a569'), 'name': 'Eram', 'age': 22, 'math_score': 78, 'physics_score': 75, 'city': 'Los Angeles'}\n",
      "{'_id': ObjectId('66f1382738f7d2ba71a4a56a'), 'name': 'Madan', 'age': 24, 'math_score': 95, 'physics_score': 88, 'city': 'Chicago'}\n",
      "{'_id': ObjectId('66f1382738f7d2ba71a4a56b'), 'name': 'Uvaish', 'age': 21, 'math_score': 60, 'physics_score': 65, 'city': 'Houston'}\n",
      "{'_id': ObjectId('66f1382738f7d2ba71a4a56c'), 'name': 'Neha', 'age': 23, 'math_score': 72, 'physics_score': 80, 'city': 'Phoenix'}\n"
     ]
    }
   ],
   "source": [
    "# Query to find students whose math_score is not equal to 85\n",
    "students = collection.find({ \n",
    "    \"math_score\": { \"$ne\": 85 }  # $ne is the operator for \"not equal\"\n",
    "})\n",
    "\n",
    "# Print the results\n",
    "for student in students:\n",
    "    print(student)"
   ]
  },
  {
   "cell_type": "markdown",
   "id": "60ea1681",
   "metadata": {},
   "source": [
    "16. Write a query to find students whose 'name' starts with the letter 'A'."
   ]
  },
  {
   "cell_type": "code",
   "execution_count": 26,
   "id": "7bd53a1f",
   "metadata": {},
   "outputs": [],
   "source": [
    "# Query to find students whose name starts with 'A'\n",
    "students = collection.find({ \n",
    "    \"name\": { \"$regex\": \"^A\", \"$options\": \"i\" }  # ^A matches names starting with 'A', 'i' makes it case insensitive\n",
    "})\n",
    "\n",
    "# Print the results\n",
    "for student in students:\n",
    "    print(student)"
   ]
  },
  {
   "cell_type": "markdown",
   "id": "ed20ebf4",
   "metadata": {},
   "source": [
    "17. Write a query to find students whose 'city' is neither 'New York' nor 'Los Angeles'."
   ]
  },
  {
   "cell_type": "code",
   "execution_count": 27,
   "id": "756b4281",
   "metadata": {},
   "outputs": [
    {
     "name": "stdout",
     "output_type": "stream",
     "text": [
      "{'_id': ObjectId('66f1382738f7d2ba71a4a56a'), 'name': 'Madan', 'age': 24, 'math_score': 95, 'physics_score': 88, 'city': 'Chicago'}\n",
      "{'_id': ObjectId('66f1382738f7d2ba71a4a56b'), 'name': 'Uvaish', 'age': 21, 'math_score': 60, 'physics_score': 65, 'city': 'Houston'}\n",
      "{'_id': ObjectId('66f1382738f7d2ba71a4a56c'), 'name': 'Neha', 'age': 23, 'math_score': 72, 'physics_score': 80, 'city': 'Phoenix'}\n"
     ]
    }
   ],
   "source": [
    "# Query to find students whose city is neither 'New York' nor 'Los Angeles'\n",
    "students = collection.find({ \n",
    "    \"city\": { \"$nin\": [\"New York\", \"Los Angeles\"] }  # $nin checks for values not in the specified array\n",
    "})\n",
    "\n",
    "# Print the results\n",
    "for student in students:\n",
    "    print(student)"
   ]
  },
  {
   "cell_type": "markdown",
   "id": "02cbae8c",
   "metadata": {},
   "source": [
    "18. Write a query to update all students with 'age' greater than 22 to add a new field 'graduated': true."
   ]
  },
  {
   "cell_type": "code",
   "execution_count": 29,
   "id": "24708ab9",
   "metadata": {},
   "outputs": [
    {
     "name": "stdout",
     "output_type": "stream",
     "text": [
      "Number of students updated: 3\n"
     ]
    }
   ],
   "source": [
    "# Update all students with age greater than 22 to add 'graduated': true\n",
    "result = collection.update_many(\n",
    "    { \"age\": { \"$gt\": 22 } },  # Filter for students with age greater than 22\n",
    "    { \"$set\": { \"graduated\": True } }  # Set the graduated field to true\n",
    ")\n",
    "\n",
    "# Check how many documents were modified\n",
    "print(f\"Number of students updated: {result.modified_count}\")"
   ]
  },
  {
   "cell_type": "markdown",
   "id": "d2212656",
   "metadata": {},
   "source": [
    "19. Write a query to remove the 'physics_score' field for students who live in 'Chicago'."
   ]
  },
  {
   "cell_type": "code",
   "execution_count": 30,
   "id": "eb52a26e",
   "metadata": {},
   "outputs": [
    {
     "name": "stdout",
     "output_type": "stream",
     "text": [
      "Number of students updated: 1\n"
     ]
    }
   ],
   "source": [
    "# Update to remove the 'physics_score' field for students who live in 'Chicago'\n",
    "result = collection.update_many(\n",
    "    { \"city\": \"Chicago\" },  # Filter for students who live in Chicago\n",
    "    { \"$unset\": { \"physics_score\": \"\" } }  # Remove the physics_score field\n",
    ")\n",
    "\n",
    "# Check how many documents were modified\n",
    "print(f\"Number of students updated: {result.modified_count}\")"
   ]
  },
  {
   "cell_type": "markdown",
   "id": "29fcb8f8",
   "metadata": {},
   "source": [
    "20. Write a query to find the student with the highest 'math_score'."
   ]
  },
  {
   "cell_type": "code",
   "execution_count": 31,
   "id": "4f647fd1",
   "metadata": {},
   "outputs": [
    {
     "name": "stdout",
     "output_type": "stream",
     "text": [
      "{'_id': ObjectId('66f1382738f7d2ba71a4a56a'), 'name': 'Madan', 'age': 24, 'math_score': 95, 'city': 'Chicago', 'graduated': True}\n"
     ]
    }
   ],
   "source": [
    "# Query to find the student with the highest math_score\n",
    "highest_math_score_student = collection.find().sort(\"math_score\", -1).limit(1)\n",
    "\n",
    "# Print the result\n",
    "for student in highest_math_score_student:\n",
    "    print(student)"
   ]
  }
 ],
 "metadata": {
  "kernelspec": {
   "display_name": "Python 3",
   "language": "python",
   "name": "python3"
  },
  "language_info": {
   "codemirror_mode": {
    "name": "ipython",
    "version": 3
   },
   "file_extension": ".py",
   "mimetype": "text/x-python",
   "name": "python",
   "nbconvert_exporter": "python",
   "pygments_lexer": "ipython3",
   "version": "3.12.6"
  }
 },
 "nbformat": 4,
 "nbformat_minor": 5
}
